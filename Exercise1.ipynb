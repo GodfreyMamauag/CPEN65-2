{
  "nbformat": 4,
  "nbformat_minor": 0,
  "metadata": {
    "colab": {
      "provenance": [],
      "authorship_tag": "ABX9TyMgZE5hon+5PxwJtIp6Mwlk",
      "include_colab_link": true
    },
    "kernelspec": {
      "name": "python3",
      "display_name": "Python 3"
    },
    "language_info": {
      "name": "python"
    }
  },
  "cells": [
    {
      "cell_type": "markdown",
      "metadata": {
        "id": "view-in-github",
        "colab_type": "text"
      },
      "source": [
        "<a href=\"https://colab.research.google.com/github/GodfreyMamauag/CPEN65-2/blob/main/Exercise1.ipynb\" target=\"_parent\"><img src=\"https://colab.research.google.com/assets/colab-badge.svg\" alt=\"Open In Colab\"/></a>"
      ]
    },
    {
      "cell_type": "code",
      "execution_count": 2,
      "metadata": {
        "colab": {
          "base_uri": "https://localhost:8080/"
        },
        "id": "hBUrO0wcuWul",
        "outputId": "8e51fd4f-5000-4478-d7b7-8eb90d08c93f"
      },
      "outputs": [
        {
          "output_type": "stream",
          "name": "stdout",
          "text": [
            "MARK GODFREY CONSTANTE MAMAUAG\n",
            "GAUAMAM ETNATSNOC YERFDOG KRAM\n"
          ]
        }
      ],
      "source": [
        "name= ['M','A','R','K',' ','G','O','D','F','R','E','Y',' ','C','O','N','S','T','A','N','T','E',' ','M','A','M','A','U','A','G']\n",
        "print(*name,sep=\"\")\n",
        "name.reverse()\n",
        "print(*name,sep=\"\")"
      ]
    }
  ]
}